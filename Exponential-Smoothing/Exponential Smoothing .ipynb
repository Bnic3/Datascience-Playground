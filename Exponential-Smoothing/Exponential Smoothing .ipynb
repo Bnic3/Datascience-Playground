{
 "cells": [
  {
   "cell_type": "code",
   "execution_count": 1,
   "metadata": {
    "collapsed": true
   },
   "outputs": [],
   "source": [
    "import numpy as np\n",
    "import pandas as pd\n",
    "import matplotlib as plt\n",
    "import seaborn as sn\n",
    "%matplotlib inline"
   ]
  },
  {
   "cell_type": "code",
   "execution_count": 2,
   "metadata": {
    "collapsed": true
   },
   "outputs": [],
   "source": [
    "df = pd.read_csv(\"HistoricalQuotes.csv\")"
   ]
  },
  {
   "cell_type": "code",
   "execution_count": 3,
   "metadata": {
    "collapsed": true
   },
   "outputs": [],
   "source": [
    "df['date']= pd.to_datetime(df['date'])\n",
    "df['Year']= df['date'].apply((lambda x: x.strftime(\"%Y\")))\n",
    "df['Month']= df['date'].apply((lambda x: x.strftime(\"%b\")))"
   ]
  },
  {
   "cell_type": "code",
   "execution_count": 5,
   "metadata": {},
   "outputs": [
    {
     "name": "stdout",
     "output_type": "stream",
     "text": [
      "<class 'pandas.core.frame.DataFrame'>\n",
      "RangeIndex: 507 entries, 0 to 506\n",
      "Data columns (total 8 columns):\n",
      "date      507 non-null datetime64[ns]\n",
      "close     507 non-null float64\n",
      "volume    507 non-null object\n",
      "open      507 non-null float64\n",
      "high      507 non-null float64\n",
      "low       507 non-null float64\n",
      "Year      507 non-null object\n",
      "Month     507 non-null object\n",
      "dtypes: datetime64[ns](1), float64(4), object(3)\n",
      "memory usage: 31.8+ KB\n"
     ]
    }
   ],
   "source": [
    "df.info()\n"
   ]
  },
  {
   "cell_type": "code",
   "execution_count": 9,
   "metadata": {},
   "outputs": [
    {
     "data": {
      "text/html": [
       "<div>\n",
       "<style>\n",
       "    .dataframe thead tr:only-child th {\n",
       "        text-align: right;\n",
       "    }\n",
       "\n",
       "    .dataframe thead th {\n",
       "        text-align: left;\n",
       "    }\n",
       "\n",
       "    .dataframe tbody tr th {\n",
       "        vertical-align: top;\n",
       "    }\n",
       "</style>\n",
       "<table border=\"1\" class=\"dataframe\">\n",
       "  <thead>\n",
       "    <tr style=\"text-align: right;\">\n",
       "      <th></th>\n",
       "      <th>date</th>\n",
       "      <th>close</th>\n",
       "      <th>volume</th>\n",
       "      <th>open</th>\n",
       "      <th>high</th>\n",
       "      <th>low</th>\n",
       "      <th>Year</th>\n",
       "      <th>Month</th>\n",
       "    </tr>\n",
       "  </thead>\n",
       "  <tbody>\n",
       "    <tr>\n",
       "      <th>0</th>\n",
       "      <td>2018-02-18 10:46:00</td>\n",
       "      <td>44.95</td>\n",
       "      <td>13,033,017</td>\n",
       "      <td>43.970</td>\n",
       "      <td>44.97</td>\n",
       "      <td>43.790</td>\n",
       "      <td>2018</td>\n",
       "      <td>Feb</td>\n",
       "    </tr>\n",
       "    <tr>\n",
       "      <th>1</th>\n",
       "      <td>2018-02-15 00:00:00</td>\n",
       "      <td>44.08</td>\n",
       "      <td>72045260.0000</td>\n",
       "      <td>45.065</td>\n",
       "      <td>45.13</td>\n",
       "      <td>43.260</td>\n",
       "      <td>2018</td>\n",
       "      <td>Feb</td>\n",
       "    </tr>\n",
       "    <tr>\n",
       "      <th>2</th>\n",
       "      <td>2018-02-14 00:00:00</td>\n",
       "      <td>42.09</td>\n",
       "      <td>43187830.0000</td>\n",
       "      <td>41.040</td>\n",
       "      <td>42.26</td>\n",
       "      <td>40.990</td>\n",
       "      <td>2018</td>\n",
       "      <td>Feb</td>\n",
       "    </tr>\n",
       "    <tr>\n",
       "      <th>3</th>\n",
       "      <td>2018-02-13 00:00:00</td>\n",
       "      <td>41.23</td>\n",
       "      <td>29388340.0000</td>\n",
       "      <td>40.500</td>\n",
       "      <td>41.31</td>\n",
       "      <td>40.220</td>\n",
       "      <td>2018</td>\n",
       "      <td>Feb</td>\n",
       "    </tr>\n",
       "    <tr>\n",
       "      <th>4</th>\n",
       "      <td>2018-02-12 00:00:00</td>\n",
       "      <td>40.60</td>\n",
       "      <td>38095480.0000</td>\n",
       "      <td>40.515</td>\n",
       "      <td>40.91</td>\n",
       "      <td>40.225</td>\n",
       "      <td>2018</td>\n",
       "      <td>Feb</td>\n",
       "    </tr>\n",
       "  </tbody>\n",
       "</table>\n",
       "</div>"
      ],
      "text/plain": [
       "                 date  close         volume    open   high     low  Year Month\n",
       "0 2018-02-18 10:46:00  44.95     13,033,017  43.970  44.97  43.790  2018   Feb\n",
       "1 2018-02-15 00:00:00  44.08  72045260.0000  45.065  45.13  43.260  2018   Feb\n",
       "2 2018-02-14 00:00:00  42.09  43187830.0000  41.040  42.26  40.990  2018   Feb\n",
       "3 2018-02-13 00:00:00  41.23  29388340.0000  40.500  41.31  40.220  2018   Feb\n",
       "4 2018-02-12 00:00:00  40.60  38095480.0000  40.515  40.91  40.225  2018   Feb"
      ]
     },
     "execution_count": 9,
     "metadata": {},
     "output_type": "execute_result"
    }
   ],
   "source": [
    "df.head()\n"
   ]
  },
  {
   "cell_type": "code",
   "execution_count": 6,
   "metadata": {
    "collapsed": true
   },
   "outputs": [],
   "source": [
    "df2= df.groupby([\"Year\",'Month'])"
   ]
  },
  {
   "cell_type": "code",
   "execution_count": 7,
   "metadata": {
    "collapsed": true
   },
   "outputs": [],
   "source": [
    "df3= df2.get_group((\"2018\",\"Jan\"))"
   ]
  },
  {
   "cell_type": "code",
   "execution_count": 14,
   "metadata": {},
   "outputs": [
    {
     "data": {
      "text/html": [
       "<div>\n",
       "<style>\n",
       "    .dataframe thead tr:only-child th {\n",
       "        text-align: right;\n",
       "    }\n",
       "\n",
       "    .dataframe thead th {\n",
       "        text-align: left;\n",
       "    }\n",
       "\n",
       "    .dataframe tbody tr th {\n",
       "        vertical-align: top;\n",
       "    }\n",
       "</style>\n",
       "<table border=\"1\" class=\"dataframe\">\n",
       "  <thead>\n",
       "    <tr style=\"text-align: right;\">\n",
       "      <th></th>\n",
       "      <th>date</th>\n",
       "      <th>close</th>\n",
       "      <th>volume</th>\n",
       "      <th>open</th>\n",
       "      <th>high</th>\n",
       "      <th>low</th>\n",
       "      <th>Year</th>\n",
       "      <th>Month</th>\n",
       "    </tr>\n",
       "  </thead>\n",
       "  <tbody>\n",
       "    <tr>\n",
       "      <th>12</th>\n",
       "      <td>2018-01-31</td>\n",
       "      <td>41.54</td>\n",
       "      <td>36126300.0000</td>\n",
       "      <td>41.980</td>\n",
       "      <td>42.010</td>\n",
       "      <td>41.350</td>\n",
       "      <td>2018</td>\n",
       "      <td>Jan</td>\n",
       "    </tr>\n",
       "    <tr>\n",
       "      <th>13</th>\n",
       "      <td>2018-01-30</td>\n",
       "      <td>42.25</td>\n",
       "      <td>28710950.0000</td>\n",
       "      <td>42.685</td>\n",
       "      <td>42.860</td>\n",
       "      <td>41.970</td>\n",
       "      <td>2018</td>\n",
       "      <td>Jan</td>\n",
       "    </tr>\n",
       "    <tr>\n",
       "      <th>14</th>\n",
       "      <td>2018-01-29</td>\n",
       "      <td>42.85</td>\n",
       "      <td>23599980.0000</td>\n",
       "      <td>42.300</td>\n",
       "      <td>42.980</td>\n",
       "      <td>42.300</td>\n",
       "      <td>2018</td>\n",
       "      <td>Jan</td>\n",
       "    </tr>\n",
       "    <tr>\n",
       "      <th>15</th>\n",
       "      <td>2018-01-26</td>\n",
       "      <td>42.56</td>\n",
       "      <td>23351950.0000</td>\n",
       "      <td>42.150</td>\n",
       "      <td>42.560</td>\n",
       "      <td>41.950</td>\n",
       "      <td>2018</td>\n",
       "      <td>Jan</td>\n",
       "    </tr>\n",
       "    <tr>\n",
       "      <th>16</th>\n",
       "      <td>2018-01-25</td>\n",
       "      <td>41.90</td>\n",
       "      <td>19067170.0000</td>\n",
       "      <td>42.270</td>\n",
       "      <td>42.470</td>\n",
       "      <td>41.820</td>\n",
       "      <td>2018</td>\n",
       "      <td>Jan</td>\n",
       "    </tr>\n",
       "    <tr>\n",
       "      <th>17</th>\n",
       "      <td>2018-01-24</td>\n",
       "      <td>42.17</td>\n",
       "      <td>26636840.0000</td>\n",
       "      <td>42.200</td>\n",
       "      <td>42.685</td>\n",
       "      <td>42.010</td>\n",
       "      <td>2018</td>\n",
       "      <td>Jan</td>\n",
       "    </tr>\n",
       "    <tr>\n",
       "      <th>18</th>\n",
       "      <td>2018-01-23</td>\n",
       "      <td>42.10</td>\n",
       "      <td>23029880.0000</td>\n",
       "      <td>41.540</td>\n",
       "      <td>42.130</td>\n",
       "      <td>41.540</td>\n",
       "      <td>2018</td>\n",
       "      <td>Jan</td>\n",
       "    </tr>\n",
       "    <tr>\n",
       "      <th>19</th>\n",
       "      <td>2018-01-22</td>\n",
       "      <td>41.66</td>\n",
       "      <td>22841180.0000</td>\n",
       "      <td>41.200</td>\n",
       "      <td>41.660</td>\n",
       "      <td>41.020</td>\n",
       "      <td>2018</td>\n",
       "      <td>Jan</td>\n",
       "    </tr>\n",
       "    <tr>\n",
       "      <th>20</th>\n",
       "      <td>2018-01-19</td>\n",
       "      <td>41.29</td>\n",
       "      <td>24469260.0000</td>\n",
       "      <td>41.280</td>\n",
       "      <td>41.520</td>\n",
       "      <td>41.100</td>\n",
       "      <td>2018</td>\n",
       "      <td>Jan</td>\n",
       "    </tr>\n",
       "    <tr>\n",
       "      <th>21</th>\n",
       "      <td>2018-01-18</td>\n",
       "      <td>41.30</td>\n",
       "      <td>18237820.0000</td>\n",
       "      <td>41.240</td>\n",
       "      <td>41.480</td>\n",
       "      <td>41.030</td>\n",
       "      <td>2018</td>\n",
       "      <td>Jan</td>\n",
       "    </tr>\n",
       "    <tr>\n",
       "      <th>22</th>\n",
       "      <td>2018-01-17</td>\n",
       "      <td>41.20</td>\n",
       "      <td>24161380.0000</td>\n",
       "      <td>40.840</td>\n",
       "      <td>41.320</td>\n",
       "      <td>40.705</td>\n",
       "      <td>2018</td>\n",
       "      <td>Jan</td>\n",
       "    </tr>\n",
       "    <tr>\n",
       "      <th>23</th>\n",
       "      <td>2018-01-16</td>\n",
       "      <td>40.54</td>\n",
       "      <td>32817380.0000</td>\n",
       "      <td>40.900</td>\n",
       "      <td>41.160</td>\n",
       "      <td>40.320</td>\n",
       "      <td>2018</td>\n",
       "      <td>Jan</td>\n",
       "    </tr>\n",
       "    <tr>\n",
       "      <th>24</th>\n",
       "      <td>2018-01-12</td>\n",
       "      <td>40.87</td>\n",
       "      <td>23712990.0000</td>\n",
       "      <td>40.220</td>\n",
       "      <td>40.930</td>\n",
       "      <td>40.050</td>\n",
       "      <td>2018</td>\n",
       "      <td>Jan</td>\n",
       "    </tr>\n",
       "    <tr>\n",
       "      <th>25</th>\n",
       "      <td>2018-01-11</td>\n",
       "      <td>40.10</td>\n",
       "      <td>20358640.0000</td>\n",
       "      <td>40.140</td>\n",
       "      <td>40.210</td>\n",
       "      <td>39.750</td>\n",
       "      <td>2018</td>\n",
       "      <td>Jan</td>\n",
       "    </tr>\n",
       "    <tr>\n",
       "      <th>26</th>\n",
       "      <td>2018-01-10</td>\n",
       "      <td>39.91</td>\n",
       "      <td>19469010.0000</td>\n",
       "      <td>39.650</td>\n",
       "      <td>40.240</td>\n",
       "      <td>39.630</td>\n",
       "      <td>2018</td>\n",
       "      <td>Jan</td>\n",
       "    </tr>\n",
       "    <tr>\n",
       "      <th>27</th>\n",
       "      <td>2018-01-09</td>\n",
       "      <td>39.69</td>\n",
       "      <td>21447900.0000</td>\n",
       "      <td>39.790</td>\n",
       "      <td>39.960</td>\n",
       "      <td>39.540</td>\n",
       "      <td>2018</td>\n",
       "      <td>Jan</td>\n",
       "    </tr>\n",
       "    <tr>\n",
       "      <th>28</th>\n",
       "      <td>2018-01-08</td>\n",
       "      <td>39.94</td>\n",
       "      <td>16531360.0000</td>\n",
       "      <td>39.520</td>\n",
       "      <td>39.960</td>\n",
       "      <td>39.350</td>\n",
       "      <td>2018</td>\n",
       "      <td>Jan</td>\n",
       "    </tr>\n",
       "    <tr>\n",
       "      <th>29</th>\n",
       "      <td>2018-01-05</td>\n",
       "      <td>39.53</td>\n",
       "      <td>24495250.0000</td>\n",
       "      <td>39.550</td>\n",
       "      <td>39.880</td>\n",
       "      <td>39.365</td>\n",
       "      <td>2018</td>\n",
       "      <td>Jan</td>\n",
       "    </tr>\n",
       "    <tr>\n",
       "      <th>30</th>\n",
       "      <td>2018-01-04</td>\n",
       "      <td>38.99</td>\n",
       "      <td>20698400.0000</td>\n",
       "      <td>39.050</td>\n",
       "      <td>39.540</td>\n",
       "      <td>38.930</td>\n",
       "      <td>2018</td>\n",
       "      <td>Jan</td>\n",
       "    </tr>\n",
       "    <tr>\n",
       "      <th>31</th>\n",
       "      <td>2018-01-03</td>\n",
       "      <td>39.17</td>\n",
       "      <td>29293220.0000</td>\n",
       "      <td>38.720</td>\n",
       "      <td>39.285</td>\n",
       "      <td>38.530</td>\n",
       "      <td>2018</td>\n",
       "      <td>Jan</td>\n",
       "    </tr>\n",
       "    <tr>\n",
       "      <th>32</th>\n",
       "      <td>2018-01-02</td>\n",
       "      <td>38.86</td>\n",
       "      <td>20121940.0000</td>\n",
       "      <td>38.670</td>\n",
       "      <td>38.950</td>\n",
       "      <td>38.430</td>\n",
       "      <td>2018</td>\n",
       "      <td>Jan</td>\n",
       "    </tr>\n",
       "  </tbody>\n",
       "</table>\n",
       "</div>"
      ],
      "text/plain": [
       "         date  close         volume    open    high     low  Year Month\n",
       "12 2018-01-31  41.54  36126300.0000  41.980  42.010  41.350  2018   Jan\n",
       "13 2018-01-30  42.25  28710950.0000  42.685  42.860  41.970  2018   Jan\n",
       "14 2018-01-29  42.85  23599980.0000  42.300  42.980  42.300  2018   Jan\n",
       "15 2018-01-26  42.56  23351950.0000  42.150  42.560  41.950  2018   Jan\n",
       "16 2018-01-25  41.90  19067170.0000  42.270  42.470  41.820  2018   Jan\n",
       "17 2018-01-24  42.17  26636840.0000  42.200  42.685  42.010  2018   Jan\n",
       "18 2018-01-23  42.10  23029880.0000  41.540  42.130  41.540  2018   Jan\n",
       "19 2018-01-22  41.66  22841180.0000  41.200  41.660  41.020  2018   Jan\n",
       "20 2018-01-19  41.29  24469260.0000  41.280  41.520  41.100  2018   Jan\n",
       "21 2018-01-18  41.30  18237820.0000  41.240  41.480  41.030  2018   Jan\n",
       "22 2018-01-17  41.20  24161380.0000  40.840  41.320  40.705  2018   Jan\n",
       "23 2018-01-16  40.54  32817380.0000  40.900  41.160  40.320  2018   Jan\n",
       "24 2018-01-12  40.87  23712990.0000  40.220  40.930  40.050  2018   Jan\n",
       "25 2018-01-11  40.10  20358640.0000  40.140  40.210  39.750  2018   Jan\n",
       "26 2018-01-10  39.91  19469010.0000  39.650  40.240  39.630  2018   Jan\n",
       "27 2018-01-09  39.69  21447900.0000  39.790  39.960  39.540  2018   Jan\n",
       "28 2018-01-08  39.94  16531360.0000  39.520  39.960  39.350  2018   Jan\n",
       "29 2018-01-05  39.53  24495250.0000  39.550  39.880  39.365  2018   Jan\n",
       "30 2018-01-04  38.99  20698400.0000  39.050  39.540  38.930  2018   Jan\n",
       "31 2018-01-03  39.17  29293220.0000  38.720  39.285  38.530  2018   Jan\n",
       "32 2018-01-02  38.86  20121940.0000  38.670  38.950  38.430  2018   Jan"
      ]
     },
     "execution_count": 14,
     "metadata": {},
     "output_type": "execute_result"
    }
   ],
   "source": [
    "df3"
   ]
  },
  {
   "cell_type": "code",
   "execution_count": null,
   "metadata": {
    "collapsed": true
   },
   "outputs": [],
   "source": [
    "\n"
   ]
  },
  {
   "cell_type": "code",
   "execution_count": 8,
   "metadata": {
    "collapsed": true
   },
   "outputs": [],
   "source": [
    "t1= df2.get_group((\"2017\",\"Jan\"))['close'].iloc[-1]\n",
    "t2=df2.get_group((\"2017\",\"Feb\"))['close'].iloc[-1]\n",
    "t3=df2.get_group((\"2017\",\"Mar\"))['close'].iloc[-1]\n",
    "t4=df2.get_group((\"2017\",\"Apr\"))['close'].iloc[-1]\n",
    "t5=df2.get_group((\"2017\",\"May\"))['close'].iloc[-1]\n",
    "t6=df2.get_group((\"2017\",\"Jun\"))['close'].iloc[-1]\n",
    "t7=df2.get_group((\"2017\",\"Jul\"))['close'].iloc[-1]\n",
    "t8=df2.get_group((\"2017\",\"Aug\"))['close'].iloc[-1]"
   ]
  },
  {
   "cell_type": "code",
   "execution_count": 21,
   "metadata": {},
   "outputs": [
    {
     "data": {
      "text/plain": [
       "pandas.core.series.Series"
      ]
     },
     "execution_count": 21,
     "metadata": {},
     "output_type": "execute_result"
    }
   ],
   "source": [
    "t9= df2.get_group((\"2017\",\"Jan\"))[['close','date']].iloc[-1]\n",
    "type(t9)\n",
    "\n"
   ]
  },
  {
   "cell_type": "code",
   "execution_count": 9,
   "metadata": {},
   "outputs": [
    {
     "data": {
      "text/plain": [
       "[30.539999999999999,\n",
       " 30.5,\n",
       " 34.439999999999998,\n",
       " 33.579999999999998,\n",
       " 33.969999999999999,\n",
       " 31.82,\n",
       " 31.329999999999998,\n",
       " 31.649999999999999]"
      ]
     },
     "execution_count": 9,
     "metadata": {},
     "output_type": "execute_result"
    }
   ],
   "source": [
    "Y=[t1,t2,t3,t4,t5,t6,t7,t8]\n",
    "Y\n"
   ]
  },
  {
   "cell_type": "code",
   "execution_count": 23,
   "metadata": {
    "collapsed": true
   },
   "outputs": [],
   "source": [
    "target_year = \"2017\"\n",
    "target_months = ['Jan', 'Feb', 'Mar', 'Apr', 'May', 'Jun', 'Jul', 'Aug','Sep']  #8 months"
   ]
  },
  {
   "cell_type": "code",
   "execution_count": 25,
   "metadata": {},
   "outputs": [
    {
     "data": {
      "text/plain": [
       "[30.539999999999999,\n",
       " 30.5,\n",
       " 34.439999999999998,\n",
       " 33.579999999999998,\n",
       " 33.969999999999999,\n",
       " 31.82,\n",
       " 31.329999999999998,\n",
       " 31.649999999999999,\n",
       " 32.299999999999997]"
      ]
     },
     "execution_count": 25,
     "metadata": {},
     "output_type": "execute_result"
    }
   ],
   "source": [
    "observation = [\n",
    "    (df2.get_group((target_year, month))['close'].iloc[-1])\n",
    "    for month in target_months\n",
    "    ]\n",
    "observation"
   ]
  },
  {
   "cell_type": "code",
   "execution_count": 26,
   "metadata": {},
   "outputs": [
    {
     "data": {
      "text/plain": [
       "list"
      ]
     },
     "execution_count": 26,
     "metadata": {},
     "output_type": "execute_result"
    }
   ],
   "source": [
    "forecast =  [30.539999999999999, 30.539999999999999, 30.532000000000004, 31.313600000000001, 31.766880000000004, 32.207504, 32.130003200000004, 31.970002560000005, 31.906002048000005]\n",
    "\n",
    "type(observation)"
   ]
  },
  {
   "cell_type": "code",
   "execution_count": 27,
   "metadata": {
    "collapsed": true
   },
   "outputs": [],
   "source": [
    "new_df2 = pd.DataFrame()\n",
    "\n",
    "new_df2['F']=pd.Series(forecast)\n",
    "new_df2['X']= pd.Series(observation)\n",
    "new_df2['Date']= pd.Series(target_months)"
   ]
  },
  {
   "cell_type": "code",
   "execution_count": 28,
   "metadata": {},
   "outputs": [
    {
     "data": {
      "text/html": [
       "<div>\n",
       "<style>\n",
       "    .dataframe thead tr:only-child th {\n",
       "        text-align: right;\n",
       "    }\n",
       "\n",
       "    .dataframe thead th {\n",
       "        text-align: left;\n",
       "    }\n",
       "\n",
       "    .dataframe tbody tr th {\n",
       "        vertical-align: top;\n",
       "    }\n",
       "</style>\n",
       "<table border=\"1\" class=\"dataframe\">\n",
       "  <thead>\n",
       "    <tr style=\"text-align: right;\">\n",
       "      <th></th>\n",
       "      <th>F</th>\n",
       "      <th>X</th>\n",
       "      <th>Date</th>\n",
       "    </tr>\n",
       "    <tr>\n",
       "      <th>Date</th>\n",
       "      <th></th>\n",
       "      <th></th>\n",
       "      <th></th>\n",
       "    </tr>\n",
       "  </thead>\n",
       "  <tbody>\n",
       "    <tr>\n",
       "      <th>Jan</th>\n",
       "      <td>30.540000</td>\n",
       "      <td>30.54</td>\n",
       "      <td>Jan</td>\n",
       "    </tr>\n",
       "    <tr>\n",
       "      <th>Feb</th>\n",
       "      <td>30.540000</td>\n",
       "      <td>30.50</td>\n",
       "      <td>Feb</td>\n",
       "    </tr>\n",
       "    <tr>\n",
       "      <th>Mar</th>\n",
       "      <td>30.532000</td>\n",
       "      <td>34.44</td>\n",
       "      <td>Mar</td>\n",
       "    </tr>\n",
       "    <tr>\n",
       "      <th>Apr</th>\n",
       "      <td>31.313600</td>\n",
       "      <td>33.58</td>\n",
       "      <td>Apr</td>\n",
       "    </tr>\n",
       "    <tr>\n",
       "      <th>May</th>\n",
       "      <td>31.766880</td>\n",
       "      <td>33.97</td>\n",
       "      <td>May</td>\n",
       "    </tr>\n",
       "    <tr>\n",
       "      <th>Jun</th>\n",
       "      <td>32.207504</td>\n",
       "      <td>31.82</td>\n",
       "      <td>Jun</td>\n",
       "    </tr>\n",
       "    <tr>\n",
       "      <th>Jul</th>\n",
       "      <td>32.130003</td>\n",
       "      <td>31.33</td>\n",
       "      <td>Jul</td>\n",
       "    </tr>\n",
       "    <tr>\n",
       "      <th>Aug</th>\n",
       "      <td>31.970003</td>\n",
       "      <td>31.65</td>\n",
       "      <td>Aug</td>\n",
       "    </tr>\n",
       "    <tr>\n",
       "      <th>Sep</th>\n",
       "      <td>31.906002</td>\n",
       "      <td>32.30</td>\n",
       "      <td>Sep</td>\n",
       "    </tr>\n",
       "  </tbody>\n",
       "</table>\n",
       "</div>"
      ],
      "text/plain": [
       "              F      X Date\n",
       "Date                       \n",
       "Jan   30.540000  30.54  Jan\n",
       "Feb   30.540000  30.50  Feb\n",
       "Mar   30.532000  34.44  Mar\n",
       "Apr   31.313600  33.58  Apr\n",
       "May   31.766880  33.97  May\n",
       "Jun   32.207504  31.82  Jun\n",
       "Jul   32.130003  31.33  Jul\n",
       "Aug   31.970003  31.65  Aug\n",
       "Sep   31.906002  32.30  Sep"
      ]
     },
     "execution_count": 28,
     "metadata": {},
     "output_type": "execute_result"
    }
   ],
   "source": [
    "new_df2.index= new_df2['Date']\n",
    "new_df2.head(10)\n",
    "\n"
   ]
  },
  {
   "cell_type": "code",
   "execution_count": 30,
   "metadata": {},
   "outputs": [
    {
     "data": {
      "text/plain": [
       "<matplotlib.axes._subplots.AxesSubplot at 0x1b7b92081d0>"
      ]
     },
     "execution_count": 30,
     "metadata": {},
     "output_type": "execute_result"
    },
    {
     "data": {
      "image/png": "[encoded data removed]",
      "text/plain": [
       "<matplotlib.figure.Figure at 0x1b7b91bde80>"
      ]
     },
     "metadata": {},
     "output_type": "display_data"
    }
   ],
   "source": [
    "melted= pd.melt(new_df2,id_vars='Date',value_vars=['X','F'])\n",
    "new_df2.plot()"
   ]
  },
  {
   "cell_type": "code",
   "execution_count": 5,
   "metadata": {},
   "outputs": [
    {
     "data": {
      "text/plain": [
       "[4, 10]"
      ]
     },
     "execution_count": 5,
     "metadata": {},
     "output_type": "execute_result"
    }
   ],
   "source": []
  },
  {
   "cell_type": "code",
   "execution_count": 24,
   "metadata": {
    "collapsed": true
   },
   "outputs": [],
   "source": [
    "x=1"
   ]
  },
  {
   "cell_type": "code",
   "execution_count": 25,
   "metadata": {},
   "outputs": [
    {
     "data": {
      "text/plain": [
       "True"
      ]
     },
     "execution_count": 25,
     "metadata": {},
     "output_type": "execute_result"
    }
   ],
   "source": [
    "0<=x<=1"
   ]
  },
  {
   "cell_type": "code",
   "execution_count": 26,
   "metadata": {},
   "outputs": [
    {
     "data": {
      "text/plain": [
       "True"
      ]
     },
     "execution_count": 26,
     "metadata": {},
     "output_type": "execute_result"
    }
   ],
   "source": [
    "x==1"
   ]
  },
  {
   "cell_type": "code",
   "execution_count": 28,
   "metadata": {},
   "outputs": [
    {
     "data": {
      "text/plain": [
       "int"
      ]
     },
     "execution_count": 28,
     "metadata": {},
     "output_type": "execute_result"
    }
   ],
   "source": [
    "type(1)"
   ]
  },
  {
   "cell_type": "code",
   "execution_count": 30,
   "metadata": {},
   "outputs": [
    {
     "data": {
      "text/plain": [
       "[1, 2]"
      ]
     },
     "execution_count": 30,
     "metadata": {},
     "output_type": "execute_result"
    }
   ],
   "source": [
    "ll = []\n",
    "ll.extend([1,2])\n",
    "ll"
   ]
  },
  {
   "cell_type": "code",
   "execution_count": null,
   "metadata": {
    "collapsed": true
   },
   "outputs": [],
   "source": []
  }
 ],
 "metadata": {
  "kernelspec": {
   "display_name": "Python 3",
   "language": "python",
   "name": "python3"
  },
  "language_info": {
   "codemirror_mode": {
    "name": "ipython",
    "version": 3
   },
   "file_extension": ".py",
   "mimetype": "text/x-python",
   "name": "python",
   "nbconvert_exporter": "python",
   "pygments_lexer": "ipython3",
   "version": "3.6.2"
  }
 },
 "nbformat": 4,
 "nbformat_minor": 2
}
